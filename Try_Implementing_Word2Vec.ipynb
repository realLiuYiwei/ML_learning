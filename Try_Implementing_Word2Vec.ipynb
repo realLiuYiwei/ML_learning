{
  "nbformat": 4,
  "nbformat_minor": 0,
  "metadata": {
    "colab": {
      "provenance": [],
      "authorship_tag": "ABX9TyOGvAMTrT1nNWTuDk6dJpkM",
      "include_colab_link": true
    },
    "kernelspec": {
      "name": "python3",
      "display_name": "Python 3"
    },
    "language_info": {
      "name": "python"
    }
  },
  "cells": [
    {
      "cell_type": "markdown",
      "metadata": {
        "id": "view-in-github",
        "colab_type": "text"
      },
      "source": [
        "<a href=\"https://colab.research.google.com/github/realLiuYiwei/ML_learning/blob/main/Try_Implementing_Word2Vec.ipynb\" target=\"_parent\"><img src=\"https://colab.research.google.com/assets/colab-badge.svg\" alt=\"Open In Colab\"/></a>"
      ]
    },
    {
      "cell_type": "code",
      "execution_count": null,
      "metadata": {
        "id": "5Cq39k5uPR2A"
      },
      "outputs": [],
      "source": [
        "import numpy as np\n",
        "import tensorflow.compat.v1 as tf\n",
        "corpus_raw = 'He is the king . The king is royal . She is the royal  queen '\n",
        "# convert to lower case\n",
        "corpus_raw = corpus_raw.lower()"
      ]
    },
    {
      "cell_type": "code",
      "source": [
        "words = []\n",
        "for word in corpus_raw.split():\n",
        "    if word != '.': # because we don't want to treat . as a word\n",
        "        words.append(word)\n",
        "words = set(words) # so that all duplicate words are removed\n",
        "word2int = {}\n",
        "int2word = {}\n",
        "vocab_size = len(words) # gives the total number of unique words\n",
        "for i,word in enumerate(words):\n",
        "    word2int[word] = i\n",
        "    int2word[i] = word"
      ],
      "metadata": {
        "id": "eoTC4wYdPkVS"
      },
      "execution_count": null,
      "outputs": []
    },
    {
      "cell_type": "code",
      "source": [
        "print(word2int)\n",
        "print(int2word)"
      ],
      "metadata": {
        "colab": {
          "base_uri": "https://localhost:8080/"
        },
        "id": "ffFI33oPej8Z",
        "outputId": "58031e13-aaaf-4b49-b899-2e6533f8565a"
      },
      "execution_count": null,
      "outputs": [
        {
          "output_type": "stream",
          "name": "stdout",
          "text": [
            "{'king': 0, 'he': 1, 'the': 2, 'queen': 3, 'she': 4, 'royal': 5, 'is': 6}\n",
            "{0: 'king', 1: 'he', 2: 'the', 3: 'queen', 4: 'she', 5: 'royal', 6: 'is'}\n"
          ]
        }
      ]
    },
    {
      "cell_type": "code",
      "source": [
        "# raw sentences is a list of sentences.\n",
        "raw_sentences = corpus_raw.split('.')\n",
        "sentences = []\n",
        "for sentence in raw_sentences:\n",
        "    sentences.append(sentence.split())"
      ],
      "metadata": {
        "id": "W4TdHhtFPsNI"
      },
      "execution_count": null,
      "outputs": []
    },
    {
      "cell_type": "code",
      "source": [
        "print(sentences)"
      ],
      "metadata": {
        "colab": {
          "base_uri": "https://localhost:8080/"
        },
        "id": "6b-kSinfPuse",
        "outputId": "3e9b3b25-d662-4d92-ac64-a595956cbd3a"
      },
      "execution_count": null,
      "outputs": [
        {
          "output_type": "stream",
          "name": "stdout",
          "text": [
            "[['he', 'is', 'the', 'king'], ['the', 'king', 'is', 'royal'], ['she', 'is', 'the', 'royal', 'queen']]\n"
          ]
        }
      ]
    },
    {
      "cell_type": "code",
      "source": [
        "data = []\n",
        "WINDOW_SIZE = 2\n",
        "for sentence in sentences:\n",
        "    for word_index, word in enumerate(sentence):\n",
        "        for nb_word in sentence[max(word_index - WINDOW_SIZE, 0) : min(word_index + WINDOW_SIZE, len(sentence)) + 1]: \n",
        "            if nb_word != word:\n",
        "                data.append([word, nb_word])"
      ],
      "metadata": {
        "id": "sfWlhg_qP6LC"
      },
      "execution_count": null,
      "outputs": []
    },
    {
      "cell_type": "code",
      "source": [
        "print(data)"
      ],
      "metadata": {
        "colab": {
          "base_uri": "https://localhost:8080/"
        },
        "id": "UMtlQWDFey3D",
        "outputId": "501df467-5668-40fa-aa5e-a45f45974ae1"
      },
      "execution_count": null,
      "outputs": [
        {
          "output_type": "stream",
          "name": "stdout",
          "text": [
            "[['he', 'is'], ['he', 'the'], ['is', 'he'], ['is', 'the'], ['is', 'king'], ['the', 'he'], ['the', 'is'], ['the', 'king'], ['king', 'is'], ['king', 'the'], ['the', 'king'], ['the', 'is'], ['king', 'the'], ['king', 'is'], ['king', 'royal'], ['is', 'the'], ['is', 'king'], ['is', 'royal'], ['royal', 'king'], ['royal', 'is'], ['she', 'is'], ['she', 'the'], ['is', 'she'], ['is', 'the'], ['is', 'royal'], ['the', 'she'], ['the', 'is'], ['the', 'royal'], ['the', 'queen'], ['royal', 'is'], ['royal', 'the'], ['royal', 'queen'], ['queen', 'the'], ['queen', 'royal']]\n"
          ]
        }
      ]
    },
    {
      "cell_type": "code",
      "source": [],
      "metadata": {
        "id": "zbeca02rtukI"
      },
      "execution_count": null,
      "outputs": []
    },
    {
      "cell_type": "code",
      "source": [
        "# function to convert numbers to one hot vectors\n",
        "def to_one_hot(data_point_index, vocab_size):\n",
        "    temp = np.zeros(vocab_size)\n",
        "    temp[data_point_index] = 1\n",
        "    return temp\n",
        "x_train = [] # input word\n",
        "y_train = [] # output word\n",
        "for data_word in data:\n",
        "    x_train.append(to_one_hot(word2int[ data_word[0] ], vocab_size))\n",
        "    y_train.append(to_one_hot(word2int[ data_word[1] ], vocab_size))\n",
        "# convert them to numpy arrays\n",
        "x_train = np.asarray(x_train)\n",
        "y_train = np.asarray(y_train)"
      ],
      "metadata": {
        "id": "7Yes-XTRP_Qf"
      },
      "execution_count": null,
      "outputs": []
    },
    {
      "cell_type": "markdown",
      "source": [
        "# Making the tensorflow model"
      ],
      "metadata": {
        "id": "j5UEC60uiahg"
      }
    },
    {
      "cell_type": "code",
      "source": [
        "# making placeholders for x_train and y_train\n",
        "tf.compat.v1.disable_eager_execution()\n",
        "x = tf.placeholder(tf.float32, shape=(None, vocab_size))\n",
        "y_label = tf.placeholder(tf.float32, shape=(None, vocab_size))"
      ],
      "metadata": {
        "id": "yTRVG7jOfnlc"
      },
      "execution_count": null,
      "outputs": []
    },
    {
      "cell_type": "markdown",
      "source": [
        "We take our training data and convert into the embedded representation"
      ],
      "metadata": {
        "id": "9DW9ypBuiWvB"
      }
    },
    {
      "cell_type": "code",
      "source": [
        "EMBEDDING_DIM = 5\n",
        "W1 = tf.Variable(tf.random_normal([vocab_size, EMBEDDING_DIM]))\n",
        "b1 = tf.Variable(tf.random_normal([EMBEDDING_DIM]))     #bias\n",
        "hidden_representation = tf.add(tf.matmul(x,W1), b1)"
      ],
      "metadata": {
        "id": "YeyR4BlvhjYv"
      },
      "execution_count": null,
      "outputs": []
    },
    {
      "cell_type": "markdown",
      "source": [
        "Next, we take what we have in the embedded dimension and make a prediction about the neighbour. To make the prediction we use softmax"
      ],
      "metadata": {
        "id": "TjlBVC3Siyex"
      }
    },
    {
      "cell_type": "code",
      "source": [
        "print(hidden_representation)"
      ],
      "metadata": {
        "colab": {
          "base_uri": "https://localhost:8080/"
        },
        "id": "3J_I6MkWiTiu",
        "outputId": "ae046373-92c7-43fe-f04a-6eeb161d21d1"
      },
      "execution_count": null,
      "outputs": [
        {
          "output_type": "stream",
          "name": "stdout",
          "text": [
            "Tensor(\"Add_12:0\", shape=(None, 5), dtype=float32)\n"
          ]
        }
      ]
    },
    {
      "cell_type": "code",
      "source": [
        "W2 = tf.Variable(tf.random_normal([EMBEDDING_DIM, vocab_size]))\n",
        "b2 = tf.Variable(tf.random_normal([vocab_size]))\n",
        "\n",
        "prediction = tf.nn.softmax(tf.add(tf.matmul(hidden_representation, W2), b2))"
      ],
      "metadata": {
        "id": "leNHI6hwllmw"
      },
      "execution_count": null,
      "outputs": []
    },
    {
      "cell_type": "code",
      "source": [
        "sess = tf.Session()\n",
        "init = tf.global_variables_initializer()\n",
        "\n",
        "sess.run(init) # must do this\n",
        "\n",
        "# define the loss function:\n",
        "cross_entropy_loss = tf.reduce_mean(-tf.reduce_sum(y_label * tf.log(prediction), reduction_indices=[1]))\n",
        "\n",
        "#define the training step:\n",
        "train_step = tf.train.GradientDescentOptimizer(0.1).minimize(cross_entropy_loss)\n",
        "\n",
        "n_iters = 10000\n",
        "\n",
        "#train for n_iter iterations\n",
        "\n",
        "for _ in range(n_iters):\n",
        "  sess.run(train_step, feed_dict={x: x_train, y_label: y_train})\n"
      ],
      "metadata": {
        "id": "WH06zZf-n96M"
      },
      "execution_count": null,
      "outputs": []
    },
    {
      "cell_type": "code",
      "source": [
        "print(sess.run(W1))\n",
        "print('----------')\n",
        "print(sess.run(b1))\n",
        "print('----------')"
      ],
      "metadata": {
        "colab": {
          "base_uri": "https://localhost:8080/"
        },
        "id": "zNfjCJclp79W",
        "outputId": "f0c0dc75-d379-4092-f9c0-35b398275c1f"
      },
      "execution_count": null,
      "outputs": [
        {
          "output_type": "stream",
          "name": "stdout",
          "text": [
            "[[-2.1272097   0.3586792  -0.9803731   0.2708516  -0.6239545 ]\n",
            " [-0.5522463   0.6938541  -0.24835221 -0.5188872  -1.5383853 ]\n",
            " [ 1.9780777  -0.90808475 -1.092655   -0.04184348  1.1801578 ]\n",
            " [-2.2413158   0.86413836  0.3117944  -1.443656    2.0441027 ]\n",
            " [ 0.3510447  -0.55387187 -0.772945   -0.7994312  -0.80496186]\n",
            " [-0.46319884 -0.46611163 -1.3791208   2.6543853  -0.5446122 ]\n",
            " [-0.36220688 -2.0924256   0.38797283  1.1197618   2.7599006 ]]\n",
            "----------\n",
            "[ 0.20014861  0.50772685 -1.2425529  -0.8216071  -0.52395654]\n",
            "----------\n"
          ]
        }
      ]
    },
    {
      "cell_type": "code",
      "source": [
        "vectors = sess.run(W1 + b1)\n",
        "\n",
        "# if you work it out, you will see that it has the same effect as running the node hidden representation\n",
        "print(vectors)"
      ],
      "metadata": {
        "colab": {
          "base_uri": "https://localhost:8080/"
        },
        "id": "1ILdjylDqQyQ",
        "outputId": "74450090-55c2-4eba-ef61-6bd9561c8b81"
      },
      "execution_count": null,
      "outputs": [
        {
          "output_type": "stream",
          "name": "stdout",
          "text": [
            "[[-1.9270611   0.8664061  -2.222926   -0.5507555  -1.1479111 ]\n",
            " [-0.35209766  1.201581   -1.490905   -1.3404944  -2.0623417 ]\n",
            " [ 2.1782262  -0.4003579  -2.335208   -0.8634506   0.65620124]\n",
            " [-2.0411673   1.3718653  -0.9307585  -2.265263    1.5201461 ]\n",
            " [ 0.55119336 -0.04614502 -2.015498   -1.6210383  -1.3289185 ]\n",
            " [-0.26305023  0.04161522 -2.6216736   1.8327782  -1.0685687 ]\n",
            " [-0.16205826 -1.5846987  -0.85458004  0.2981547   2.235944  ]]\n"
          ]
        }
      ]
    },
    {
      "cell_type": "code",
      "source": [
        "print(vectors[ word2int['queen'] ])"
      ],
      "metadata": {
        "colab": {
          "base_uri": "https://localhost:8080/"
        },
        "id": "AHpaPAEDqUoA",
        "outputId": "f70e6713-a040-4f52-d48e-069c5b1a7997"
      },
      "execution_count": null,
      "outputs": [
        {
          "output_type": "stream",
          "name": "stdout",
          "text": [
            "[-2.0411673  1.3718653 -0.9307585 -2.265263   1.5201461]\n"
          ]
        }
      ]
    },
    {
      "cell_type": "code",
      "source": [
        "def euclidean_dist(vec1, vec2):\n",
        "    return np.sqrt(np.sum((vec1-vec2)**2))\n",
        "def find_closest(word_index, vectors):\n",
        "    min_dist = 10000 # to act like positive infinity\n",
        "    min_index = -1\n",
        "    query_vector = vectors[word_index]\n",
        "    for index, vector in enumerate(vectors):\n",
        "        if euclidean_dist(vector, query_vector) < min_dist and not np.array_equal(vector, query_vector):\n",
        "            min_dist = euclidean_dist(vector, query_vector)\n",
        "            min_index = index\n",
        "    return min_index"
      ],
      "metadata": {
        "id": "bPIIenduqbbH"
      },
      "execution_count": null,
      "outputs": []
    },
    {
      "cell_type": "code",
      "source": [
        "print(int2word[find_closest(word2int['king'], vectors)])\n",
        "print(int2word[find_closest(word2int['queen'], vectors)])\n",
        "print(int2word[find_closest(word2int['royal'], vectors)])\n"
      ],
      "metadata": {
        "colab": {
          "base_uri": "https://localhost:8080/"
        },
        "id": "x_hNkCUJqe1E",
        "outputId": "78149e5b-23c7-4b7f-893d-d0b7a7dfe047"
      },
      "execution_count": null,
      "outputs": [
        {
          "output_type": "stream",
          "name": "stdout",
          "text": [
            "he\n",
            "king\n",
            "king\n"
          ]
        }
      ]
    },
    {
      "cell_type": "code",
      "source": [
        "from sklearn.manifold import TSNE\n",
        "model = TSNE(n_components=2, random_state=0)\n",
        "np.set_printoptions(suppress=True)\n",
        "vectors = model.fit_transform(vectors)"
      ],
      "metadata": {
        "colab": {
          "base_uri": "https://localhost:8080/"
        },
        "id": "s6a7tFDqh2T-",
        "outputId": "439a7267-073f-48ce-9568-bab9e94968c9"
      },
      "execution_count": null,
      "outputs": [
        {
          "output_type": "stream",
          "name": "stderr",
          "text": [
            "/usr/local/lib/python3.8/dist-packages/sklearn/manifold/_t_sne.py:780: FutureWarning: The default initialization in TSNE will change from 'random' to 'pca' in 1.2.\n",
            "  warnings.warn(\n",
            "/usr/local/lib/python3.8/dist-packages/sklearn/manifold/_t_sne.py:790: FutureWarning: The default learning rate in TSNE will change from 200.0 to 'auto' in 1.2.\n",
            "  warnings.warn(\n"
          ]
        }
      ]
    },
    {
      "cell_type": "code",
      "source": [
        "from sklearn import preprocessing\n",
        "normalizer = preprocessing.Normalizer()\n",
        "vectors = normalizer.fit_transform(vectors,'l2')"
      ],
      "metadata": {
        "id": "0DBcfV5ajLkH"
      },
      "execution_count": null,
      "outputs": []
    },
    {
      "cell_type": "code",
      "source": [
        "import matplotlib.pyplot as plt\n",
        "fig, ax = plt.subplots()\n",
        "for word in words:\n",
        "    print(word, vectors[word2int[word]][1])\n",
        "    ax.annotate(word, (vectors[word2int[word]][0],vectors[word2int[word]][1] ))\n",
        "plt.show()"
      ],
      "metadata": {
        "colab": {
          "base_uri": "https://localhost:8080/",
          "height": 577
        },
        "id": "SedmuzExjl57",
        "outputId": "761e3e66-969c-49b1-b9fd-336b1a87a29e"
      },
      "execution_count": null,
      "outputs": [
        {
          "output_type": "stream",
          "name": "stdout",
          "text": [
            "king 0.89717036\n",
            "he 0.25030422\n",
            "the 0.9601968\n",
            "queen 0.50680053\n",
            "she -0.9047838\n",
            "royal 0.9838481\n",
            "is -0.40288413\n"
          ]
        },
        {
          "output_type": "display_data",
          "data": {
            "text/plain": [
              "<Figure size 432x288 with 1 Axes>"
            ],
            "image/png": "[encoded data removed]"
          },
          "metadata": {
            "needs_background": "light"
          }
        }
      ]
    }
  ]
}